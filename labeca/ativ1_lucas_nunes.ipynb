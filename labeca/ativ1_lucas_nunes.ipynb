{
 "cells": [
  {
   "cell_type": "code",
   "execution_count": 1,
   "id": "54c1a536",
   "metadata": {},
   "outputs": [],
   "source": [
    "import autograd.numpy as np\n",
    "from autograd import grad\n",
    "#import numpy as np\n",
    "import matplotlib.pyplot as plt"
   ]
  },
  {
   "cell_type": "code",
   "execution_count": 3,
   "id": "69e4eecb",
   "metadata": {},
   "outputs": [],
   "source": [
    "def rk4(f, trange, h, x0):\n",
    "    rk_coef = np.array([1, 2, 2, 1], dtype=float)\n",
    "    t = np.arange(trange[0], trange[1]+h, h)\n",
    "    xt = np.empty((len(t), len(x)), dtype=float)\n",
    "    xt[0] = x0\n",
    "    k=np.empty((4,), dtype=float)\n",
    "    for step, current_t in enumerate(t[:-1]):\n",
    "        k[0] = f(current_t, xt[step])\n",
    "        k[1] = f(current_t + (h/2), xt[step] + ((h/2)*k[0]))\n",
    "        k[2] = f(current_t + (h/2), xt[step] + ((h/2)*k[1]))\n",
    "        k[3] = f(current_t, xt[step] + (h*k[2]))\n",
    "        xt[step+1] = xt[step] + ((h/6)*rk_coef*k)\n",
    "    return t, xt"
   ]
  },
  {
   "cell_type": "code",
   "execution_count": null,
   "id": "9a4d6ad0",
   "metadata": {},
   "outputs": [],
   "source": [
    "def dynamical_sys(t,x):\n",
    "    x = np.array(x, dtype=float)\n",
    "    sys_coefs = np.array([4.0,3.0])\n",
    "    kp=2.25\n",
    "    ki=kp\n",
    "    error = ref-y\n",
    "    dx = np.array([x[1], np.sum(-c*x)+u])\n",
    "    return dx"
   ]
  },
  {
   "cell_type": "code",
   "execution_count": null,
   "id": "bfe8a1c9",
   "metadata": {},
   "outputs": [],
   "source": [
    "def controller(t,x,u):\n",
    "    "
   ]
  },
  {
   "cell_type": "code",
   "execution_count": null,
   "id": "84b26c69",
   "metadata": {},
   "outputs": [],
   "source": [
    "def J(g,tlims):\n",
    "    ''' run a simulation of a dynamic system and collect the sum of the\n",
    "    squared errors between the simulated output and the desired output.\n",
    "    The controller depends on the parameter g, and tlims sets the initial\n",
    "    and final simulated times for each run.\n",
    "    '''\n",
    "\n",
    "    N = 10; # Save for later use\n",
    "    desired = 1.0;\n",
    "    tinit = tlims[0]\n",
    "    tfinal = tlims[1]\n",
    "    x = [0.0,0.0]\n",
    "    output,time = simulate(sys,[tinit,tfinal],x,g)\n",
    "    sum = np.sum((desired - output[:,0])**2)/len(output[:,0])\n",
    "    return sum"
   ]
  },
  {
   "cell_type": "code",
   "execution_count": null,
   "id": "d166c9c3",
   "metadata": {},
   "outputs": [],
   "source": [
    "def sys(t,x,g):\n",
    "    ref = 1.0\n",
    "    d = [0.0,0.0]\n",
    "    C = 0.5\n",
    "    error = ref-x[0]\n",
    "    # Se o erro for maior que 10% da referencia ele age, se nao, o estado continua sem alteracoes\n",
    "    if np.abs(error) > np.abs(ref/10.0):\n",
    "        input = g*np.sign(error)\n",
    "        integrate = 0.0\n",
    "    else:\n",
    "        input = x[1]\n",
    "        integrate = 1.0\n",
    "    d[0] = -C*x[0]+input\n",
    "    d[1] = error*g*integrate\n",
    "    return d"
   ]
  },
  {
   "cell_type": "code",
   "execution_count": null,
   "id": "dc8da4ec",
   "metadata": {},
   "outputs": [],
   "source": [
    "def simulate(fun,trange,x,g):\n",
    "    t = trange[0]\n",
    "    h = 0.1\n",
    "    vx = np.array(x)\n",
    "    vt = np.zeros((1,))\n",
    "    while t<trange[1]:\n",
    "        dt = trange[1]-t\n",
    "        if dt<h:\n",
    "            h = dt\n",
    "        k1 = fun(t,x,g)\n",
    "        k2 = fun(t+h,[x[i]+k1[i]*h for i in range(len(x))],g)\n",
    "        x = [x[i] + h/2.0*(k1[i]+k2[i]) for i in range(len(x))]\n",
    "        vx = np.vstack((vx,np.array(x)))\n",
    "        t = t + h\n",
    "        vt = np.vstack((vt,np.array(t)))\n",
    "    return vx,vt"
   ]
  },
  {
   "cell_type": "code",
   "execution_count": null,
   "id": "f31fd1a8",
   "metadata": {},
   "outputs": [],
   "source": [
    "x = [0.0,0.0]\n",
    "output,time = simulate(sys,np.array([0.0,10.0]),x,1.0)\n",
    "print(output.shape)\n",
    "plt.plot(output)"
   ]
  }
 ],
 "metadata": {
  "kernelspec": {
   "display_name": "Python 3 (ipykernel)",
   "language": "python",
   "name": "python3"
  },
  "language_info": {
   "codemirror_mode": {
    "name": "ipython",
    "version": 3
   },
   "file_extension": ".py",
   "mimetype": "text/x-python",
   "name": "python",
   "nbconvert_exporter": "python",
   "pygments_lexer": "ipython3",
   "version": "3.8.10"
  }
 },
 "nbformat": 4,
 "nbformat_minor": 5
}
